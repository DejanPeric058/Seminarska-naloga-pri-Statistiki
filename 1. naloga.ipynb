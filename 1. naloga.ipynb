{
 "cells": [
  {
   "cell_type": "code",
   "execution_count": 41,
   "metadata": {},
   "outputs": [
    {
     "data": {
      "text/html": [
       "<div>\n",
       "<style scoped>\n",
       "    .dataframe tbody tr th:only-of-type {\n",
       "        vertical-align: middle;\n",
       "    }\n",
       "\n",
       "    .dataframe tbody tr th {\n",
       "        vertical-align: top;\n",
       "    }\n",
       "\n",
       "    .dataframe thead th {\n",
       "        text-align: right;\n",
       "    }\n",
       "</style>\n",
       "<table border=\"1\" class=\"dataframe\">\n",
       "  <thead>\n",
       "    <tr style=\"text-align: right;\">\n",
       "      <th></th>\n",
       "      <th>'TIP'</th>\n",
       "      <th>'CLANOV'</th>\n",
       "      <th>'OTROK'</th>\n",
       "      <th>'DOHODEK'</th>\n",
       "      <th>'CETRT'</th>\n",
       "      <th>'IZOBRAZBA'</th>\n",
       "    </tr>\n",
       "  </thead>\n",
       "  <tbody>\n",
       "    <tr>\n",
       "      <th>0</th>\n",
       "      <td>1</td>\n",
       "      <td>2</td>\n",
       "      <td>0</td>\n",
       "      <td>43450</td>\n",
       "      <td>1</td>\n",
       "      <td>39</td>\n",
       "    </tr>\n",
       "    <tr>\n",
       "      <th>1</th>\n",
       "      <td>1</td>\n",
       "      <td>2</td>\n",
       "      <td>0</td>\n",
       "      <td>79000</td>\n",
       "      <td>1</td>\n",
       "      <td>40</td>\n",
       "    </tr>\n",
       "    <tr>\n",
       "      <th>2</th>\n",
       "      <td>1</td>\n",
       "      <td>2</td>\n",
       "      <td>0</td>\n",
       "      <td>51306</td>\n",
       "      <td>1</td>\n",
       "      <td>39</td>\n",
       "    </tr>\n",
       "    <tr>\n",
       "      <th>3</th>\n",
       "      <td>1</td>\n",
       "      <td>4</td>\n",
       "      <td>2</td>\n",
       "      <td>24850</td>\n",
       "      <td>1</td>\n",
       "      <td>41</td>\n",
       "    </tr>\n",
       "    <tr>\n",
       "      <th>4</th>\n",
       "      <td>1</td>\n",
       "      <td>4</td>\n",
       "      <td>2</td>\n",
       "      <td>65145</td>\n",
       "      <td>1</td>\n",
       "      <td>43</td>\n",
       "    </tr>\n",
       "    <tr>\n",
       "      <th>...</th>\n",
       "      <td>...</td>\n",
       "      <td>...</td>\n",
       "      <td>...</td>\n",
       "      <td>...</td>\n",
       "      <td>...</td>\n",
       "      <td>...</td>\n",
       "    </tr>\n",
       "    <tr>\n",
       "      <th>43881</th>\n",
       "      <td>1</td>\n",
       "      <td>5</td>\n",
       "      <td>3</td>\n",
       "      <td>30800</td>\n",
       "      <td>4</td>\n",
       "      <td>36</td>\n",
       "    </tr>\n",
       "    <tr>\n",
       "      <th>43882</th>\n",
       "      <td>1</td>\n",
       "      <td>2</td>\n",
       "      <td>0</td>\n",
       "      <td>16684</td>\n",
       "      <td>4</td>\n",
       "      <td>34</td>\n",
       "    </tr>\n",
       "    <tr>\n",
       "      <th>43883</th>\n",
       "      <td>1</td>\n",
       "      <td>2</td>\n",
       "      <td>0</td>\n",
       "      <td>12000</td>\n",
       "      <td>4</td>\n",
       "      <td>39</td>\n",
       "    </tr>\n",
       "    <tr>\n",
       "      <th>43884</th>\n",
       "      <td>1</td>\n",
       "      <td>2</td>\n",
       "      <td>0</td>\n",
       "      <td>50022</td>\n",
       "      <td>4</td>\n",
       "      <td>34</td>\n",
       "    </tr>\n",
       "    <tr>\n",
       "      <th>43885</th>\n",
       "      <td>1</td>\n",
       "      <td>9</td>\n",
       "      <td>7</td>\n",
       "      <td>21082</td>\n",
       "      <td>4</td>\n",
       "      <td>39</td>\n",
       "    </tr>\n",
       "  </tbody>\n",
       "</table>\n",
       "<p>43886 rows × 6 columns</p>\n",
       "</div>"
      ],
      "text/plain": [
       "       'TIP'  'CLANOV'  'OTROK'  'DOHODEK'  'CETRT'  'IZOBRAZBA'\n",
       "0          1         2        0      43450        1           39\n",
       "1          1         2        0      79000        1           40\n",
       "2          1         2        0      51306        1           39\n",
       "3          1         4        2      24850        1           41\n",
       "4          1         4        2      65145        1           43\n",
       "...      ...       ...      ...        ...      ...          ...\n",
       "43881      1         5        3      30800        4           36\n",
       "43882      1         2        0      16684        4           34\n",
       "43883      1         2        0      12000        4           39\n",
       "43884      1         2        0      50022        4           34\n",
       "43885      1         9        7      21082        4           39\n",
       "\n",
       "[43886 rows x 6 columns]"
      ]
     },
     "execution_count": 41,
     "metadata": {},
     "output_type": "execute_result"
    }
   ],
   "source": [
    "import scipy.stats as staty\n",
    "import numpy as np\n",
    "import pandas as pd\n",
    "from random import sample\n",
    "from matplotlib import pyplot as plt\n",
    "Kibergrad = pd.read_csv('Kibergrad.csv')\n",
    "Kibergrad"
   ]
  },
  {
   "cell_type": "code",
   "execution_count": 42,
   "metadata": {},
   "outputs": [],
   "source": [
    "Kibergrad_otroci = list(Kibergrad[\"'OTROK'\"])"
   ]
  },
  {
   "cell_type": "code",
   "execution_count": 43,
   "metadata": {},
   "outputs": [
    {
     "name": "stdout",
     "output_type": "stream",
     "text": [
      "\n",
      " a) Vzemite enostavni slučajni vzorec 200 družin in na njegovi podlagi ocenite povprečno število otrok na družino v Kibergradu.\n",
      "\n",
      "Povprečno število otrok na podlagi vzorca 200 družin je 0.97.\n"
     ]
    }
   ],
   "source": [
    "print('\\n a) Vzemite enostavni slučajni vzorec 200 družin in na njegovi podlagi ocenite '\n",
    "      'povprečno število otrok na družino v Kibergradu.\\n')\n",
    "N = 43886\n",
    "n = 200\n",
    "alpha = 0.05\n",
    "vzorec = sample(Kibergrad_otroci, n)\n",
    "povprecje_vzorca = np.average(vzorec)\n",
    "print('Povprečno število otrok na podlagi vzorca 200 družin je ' + str(povprecje_vzorca) + '.')"
   ]
  },
  {
   "cell_type": "code",
   "execution_count": 44,
   "metadata": {},
   "outputs": [
    {
     "name": "stdout",
     "output_type": "stream",
     "text": [
      "\n",
      " b) Ocenite standardno napako in postavite 95% interval zaupanja.\n",
      "\n",
      "Ocena standardne napake je 0.08335820589027886.\n",
      "Interval zaupanja za dani vzorec je (0.805621240377776, 1.134378759622224).\n"
     ]
    }
   ],
   "source": [
    "print('\\n b) Ocenite standardno napako in postavite 95% interval zaupanja.\\n')\n",
    "standardna_napaka_vzorca = np.sqrt((N-n)/(N*(n-1))*staty.moment(vzorec, 2))\n",
    "print('Ocena standardne napake je ' + str(standardna_napaka_vzorca) + '.')\n",
    "student_inv = staty.t.isf(alpha/2, n-1)\n",
    "odstop = student_inv * standardna_napaka_vzorca\n",
    "sp_meja = povprecje_vzorca - odstop\n",
    "zg_meja = povprecje_vzorca + odstop\n",
    "print('Interval zaupanja za dani vzorec je (' + str(sp_meja) + ', ' + str(zg_meja) + ').')"
   ]
  },
  {
   "cell_type": "code",
   "execution_count": 45,
   "metadata": {},
   "outputs": [
    {
     "name": "stdout",
     "output_type": "stream",
     "text": [
      "\n",
      " c) Vzorčno povprečje in ocenjeno standardno napako primerjajte s populacijskim povprečjem in pravo standardno napako. Ali interval zaupanja iz prejšnje točke pokrije populacijsko povprečje?\n",
      "\n",
      "Populacijsko povprečje je 0.9479332816843641, prava standardna napaka pa 0.0816404987959038.\n",
      "Relativna napaka ocenjenega populacijskega povprečja je 0.02327876733732359, ocenjene standardne napake pa 0.021039889757033636.\n",
      "Populacijsko povprečje se nahaja v našem intervalu zaupanja vzetega vzorca.\n"
     ]
    }
   ],
   "source": [
    "print('\\n c) Vzorčno povprečje in ocenjeno standardno napako primerjajte s populacijskim '\n",
    "    'povprečjem in pravo standardno napako. Ali interval zaupanja iz prejšnje točke '\n",
    "    'pokrije populacijsko povprečje?\\n')\n",
    "populacijsko_povprecje = np.average(Kibergrad_otroci)\n",
    "populacijski_standardni_odklon = np.sqrt(staty.moment(Kibergrad_otroci, 2))\n",
    "prava_standardna_napaka = np.sqrt((N-n)/((N-1)*n))*populacijski_standardni_odklon\n",
    "print('Populacijsko povprečje je ' + str(populacijsko_povprecje) + ', prava standardna napaka pa '\n",
    "      + str(prava_standardna_napaka) + '.')\n",
    "r_povprecje = abs(1-povprecje_vzorca/populacijsko_povprecje)\n",
    "r_napaka = abs(1-standardna_napaka_vzorca/prava_standardna_napaka)\n",
    "print('Relativna napaka ocenjenega populacijskega povprečja je ' + str(r_povprecje) + ', ocenjene standardne napake pa ' \n",
    "      + str(r_napaka) + '.')\n",
    "if populacijsko_povprecje > sp_meja and populacijsko_povprecje < zg_meja:\n",
    "    stevilo_pokritij += 1\n",
    "    print('Populacijsko povprečje se nahaja v našem intervalu zaupanja vzetega vzorca.')\n",
    "else:\n",
    "    print('Populacijsko povprečje pade ven iz našega intervala zaupanja vzetega vzorca.')"
   ]
  },
  {
   "cell_type": "code",
   "execution_count": 46,
   "metadata": {
    "scrolled": false
   },
   "outputs": [
    {
     "name": "stdout",
     "output_type": "stream",
     "text": [
      "\n",
      " d) Vzemite še 99 enostavnih slučajnih vzorcev in prav tako za vsakega določite 95% interval zaupanja. Narišite intervale zaupanja, ki pripadajo tem 100 vzorcem.  Koliko jih pokrije populacijsko povprečje? \n",
      "\n"
     ]
    },
    {
     "data": {
      "image/png": "[encoded data removed]",
      "text/plain": [
       "<Figure size 432x288 with 1 Axes>"
      ]
     },
     "metadata": {
      "needs_background": "light"
     },
     "output_type": "display_data"
    },
    {
     "name": "stdout",
     "output_type": "stream",
     "text": [
      "Število intervalov zaupanja, ki vsebujejo populacijsko povprečje, je 95.\n"
     ]
    }
   ],
   "source": [
    "print('\\n d) Vzemite še 99 enostavnih slučajnih vzorcev in prav tako za vsakega določite '\n",
    "    '95% interval zaupanja. Narišite intervale zaupanja, ki pripadajo tem 100 vzorcem. '\n",
    "    ' Koliko jih pokrije populacijsko povprečje? \\n')\n",
    "stevilo_pokritij = 0\n",
    "stevilo_vzorcev = 99\n",
    "povprecja = [povprecje_vzorca]\n",
    "odstopanja = [odstop]\n",
    "standardne_napake = [standardna_napaka_vzorca]\n",
    "for i in range(stevilo_vzorcev):\n",
    "    vzorec = sample(Kibergrad_otroci, n)\n",
    "    povprecje = np.average(vzorec)\n",
    "    povprecja.append(povprecje)\n",
    "    standardna_napaka = np.sqrt((N-n)/(N*(n-1))*staty.moment(vzorec, 2))\n",
    "    odstop = student_inv * standardna_napaka\n",
    "    odstopanja.append(odstop)\n",
    "    standardne_napake.append(standardna_napaka)\n",
    "    if populacijsko_povprecje > povprecje - odstop and populacijsko_povprecje < povprecje + odstop:\n",
    "        stevilo_pokritij += 1\n",
    "POVPRECJE = []\n",
    "NAPAKA = []\n",
    "for x in range(stevilo_vzorcev + 1):\n",
    "    POVPRECJE.append(populacijsko_povprecje)\n",
    "    NAPAKA.append(prava_standardna_napaka)\n",
    "plt.xlabel('Vzorec po vrsti')\n",
    "plt.ylabel('Delež')\n",
    "plt.errorbar(range(1, stevilo_vzorcev + 2), povprecja, xerr=0, yerr=odstopanja, fmt='none')\n",
    "plt.plot(range(1,2 + stevilo_vzorcev), POVPRECJE, 'r')\n",
    "plt.show()    \n",
    "    \n",
    "print('Število intervalov zaupanja, ki vsebujejo populacijsko povprečje, je ' + str(stevilo_pokritij) + '.')"
   ]
  },
  {
   "cell_type": "code",
   "execution_count": 47,
   "metadata": {},
   "outputs": [
    {
     "name": "stdout",
     "output_type": "stream",
     "text": [
      "\n",
      " e) Izračunajte standardni odklon vzorčnih povprečij za 100 prej dobljenih vzorcev. Primerjajte s pravo standardno napako za vzorec velikosti 200.\n",
      "\n"
     ]
    },
    {
     "data": {
      "image/png": "[encoded data removed]",
      "text/plain": [
       "<Figure size 432x288 with 1 Axes>"
      ]
     },
     "metadata": {
      "needs_background": "light"
     },
     "output_type": "display_data"
    },
    {
     "name": "stdout",
     "output_type": "stream",
     "text": [
      "Povprečje vzorčnih standardnih odklonov: 0.0816145901405435\n",
      "Minimalni vzorčni standardni odklon: 0.07099113677207253\n",
      "Maksimalni vzorčni standardni odklon: 0.09561415203944758\n",
      "Razlika med največjim in najmanjšim odklonom je 0.02462301526737505\n",
      "Relativna napaka povprečja vzorčnih standardnih odklonov je 0.0003173505275251287\n"
     ]
    }
   ],
   "source": [
    "print('\\n e) Izračunajte standardni odklon vzorčnih povprečij za 100 prej dobljenih vzorcev. '\n",
    "    'Primerjajte s pravo standardno napako za vzorec velikosti 200.\\n')\n",
    "\n",
    "povprecje_standardnih_napak = np.average(standardne_napake)\n",
    "max_std = max(standardne_napake)\n",
    "min_std = min(standardne_napake)\n",
    "r_odklon = abs(1-povprecje_standardnih_napak/prava_standardna_napaka)\n",
    "\n",
    "plt.title('Primerjava prave stand. napake in približkov')\n",
    "plt.xlabel('Vzorec po vrsti')\n",
    "plt.ylabel('Ocena za se')\n",
    "plt.plot(range(1, stevilo_vzorcev + 2), NAPAKA)\n",
    "plt.plot(range(1, stevilo_vzorcev + 2), standardne_napake, 'ro')\n",
    "plt.show()\n",
    "\n",
    "print('Povprečje vzorčnih standardnih odklonov: ' + str(povprecje_standardnih_napak))\n",
    "print('Minimalni vzorčni standardni odklon: ' + str(min_std))\n",
    "print('Maksimalni vzorčni standardni odklon: ' + str(max_std))\n",
    "print('Razlika med največjim in najmanjšim odklonom je ' + str(max_std - min_std))\n",
    "print('Relativna napaka povprečja vzorčnih standardnih odklonov je ' + str(r_odklon))"
   ]
  },
  {
   "cell_type": "code",
   "execution_count": 48,
   "metadata": {},
   "outputs": [
    {
     "name": "stdout",
     "output_type": "stream",
     "text": [
      "\n",
      " f) Izvedite prejšnji dve točki še na 100 vzorcih po 800 družin. Primerjajte in razložite razlike s teorijo vzorčenja.\n",
      "\n"
     ]
    },
    {
     "data": {
      "image/png": "[encoded data removed]",
      "text/plain": [
       "<Figure size 432x288 with 1 Axes>"
      ]
     },
     "metadata": {
      "needs_background": "light"
     },
     "output_type": "display_data"
    },
    {
     "name": "stdout",
     "output_type": "stream",
     "text": [
      "Število intervalov zaupanja, ki vsebujejo populacijsko povprečje, je 94.\n"
     ]
    },
    {
     "data": {
      "image/png": "[encoded data removed]",
      "text/plain": [
       "<Figure size 432x288 with 1 Axes>"
      ]
     },
     "metadata": {
      "needs_background": "light"
     },
     "output_type": "display_data"
    },
    {
     "name": "stdout",
     "output_type": "stream",
     "text": [
      "Povprečje vzorčnih standardnih odklonov: 0.057612486344127065\n",
      "Minimalni vzorčni standardni odklon: 0.05076218003656626\n",
      "Maksimalni vzorčni standardni odklon: 0.06581808018864788\n",
      "Razlika med največjim in najmanjšim odklonom je 0.015055900152081615\n",
      "Relativna napaka povprečja vzorčnih standardnih odklonov je 0.0002818220922213843\n"
     ]
    }
   ],
   "source": [
    "print('\\n f) Izvedite prejšnji dve točki še na 100 vzorcih po 800 družin. Primerjajte in '\n",
    "    'razložite razlike s teorijo vzorčenja.\\n')\n",
    "N = 43886\n",
    "n = 400\n",
    "stevilo_pokritij = 0\n",
    "stevilo_vzorcev = 100\n",
    "povprecja = []\n",
    "odstopanja = []\n",
    "standardne_napake = []\n",
    "prava_standardna_napaka = np.sqrt((N-n)/((N-1)*n))*populacijski_standardni_odklon\n",
    "for i in range(stevilo_vzorcev):\n",
    "    vzorec = sample(Kibergrad_otroci, n)\n",
    "    povprecje = np.average(vzorec)\n",
    "    povprecja.append(povprecje)\n",
    "    standardna_napaka = np.sqrt((N-n)/(N*(n-1))*staty.moment(vzorec, 2))\n",
    "    odstop = student_inv * standardna_napaka\n",
    "    odstopanja.append(odstop)\n",
    "    standardne_napake.append(standardna_napaka)\n",
    "    if populacijsko_povprecje > povprecje - odstop and populacijsko_povprecje < povprecje + odstop:\n",
    "        stevilo_pokritij += 1\n",
    "POVPRECJE = []\n",
    "NAPAKA = []\n",
    "for x in range(stevilo_vzorcev):\n",
    "    POVPRECJE.append(populacijsko_povprecje)\n",
    "    NAPAKA.append(prava_standardna_napaka)\n",
    "plt.xlabel('Vzorec po vrsti')\n",
    "plt.ylabel('Delež')\n",
    "plt.errorbar(range(1, stevilo_vzorcev + 1), povprecja, xerr=0, yerr=odstopanja, fmt='none')\n",
    "plt.plot(range(1,1 + stevilo_vzorcev), POVPRECJE, 'r')\n",
    "plt.show()   \n",
    "\n",
    "print('Število intervalov zaupanja, ki vsebujejo populacijsko povprečje, je ' + str(stevilo_pokritij) + '.')\n",
    "\n",
    "povprecje_standardnih_napak = np.average(standardne_napake)\n",
    "max_std = max(standardne_napake)\n",
    "min_std = min(standardne_napake)\n",
    "r_odklon = abs(1-povprecje_standardnih_napak/prava_standardna_napaka)\n",
    "\n",
    "plt.title('Primerjava prave stand. napake in približkov')\n",
    "plt.xlabel('Vzorec po vrsti')\n",
    "plt.ylabel('Ocena za se')\n",
    "plt.plot(range(1, stevilo_vzorcev + 1), NAPAKA)\n",
    "plt.plot(range(1, stevilo_vzorcev + 1), standardne_napake, 'ro')\n",
    "plt.show()\n",
    "\n",
    "print('Povprečje vzorčnih standardnih odklonov: ' + str(povprecje_standardnih_napak))\n",
    "print('Minimalni vzorčni standardni odklon: ' + str(min_std))\n",
    "print('Maksimalni vzorčni standardni odklon: ' + str(max_std))\n",
    "print('Razlika med največjim in najmanjšim odklonom je ' + str(max_std - min_std))\n",
    "print('Relativna napaka povprečja vzorčnih standardnih odklonov je ' + str(r_odklon))"
   ]
  }
 ],
 "metadata": {
  "kernelspec": {
   "display_name": "Python 3",
   "language": "python",
   "name": "python3"
  },
  "language_info": {
   "codemirror_mode": {
    "name": "ipython",
    "version": 3
   },
   "file_extension": ".py",
   "mimetype": "text/x-python",
   "name": "python",
   "nbconvert_exporter": "python",
   "pygments_lexer": "ipython3",
   "version": "3.9.2"
  }
 },
 "nbformat": 4,
 "nbformat_minor": 4
}
